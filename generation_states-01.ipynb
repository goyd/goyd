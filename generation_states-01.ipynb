{
 "cells": [
  {
   "cell_type": "code",
   "execution_count": 32,
   "id": "a592554e",
   "metadata": {},
   "outputs": [],
   "source": [
    "import numpy as np # Импорт библиотеки"
   ]
  },
  {
   "cell_type": "code",
   "execution_count": 52,
   "id": "d089409a",
   "metadata": {},
   "outputs": [],
   "source": [
    "\"\"\"Генерируем матрицу случайных значений размером 30х30\n",
    "\n",
    "каждая строка характеризует нормальное состояние\n",
    "\n",
    "\"\"\"\n",
    "normal_state_generating = np.random.default_rng().normal(0.5, 0.1, size=(30, 30)) "
   ]
  },
  {
   "cell_type": "code",
   "execution_count": 53,
   "id": "37fd29d1",
   "metadata": {},
   "outputs": [
    {
     "name": "stdout",
     "output_type": "stream",
     "text": [
      "Generator(PCG64)\n"
     ]
    }
   ],
   "source": [
    "\"\"\"создаем переменную rng - генератор случайных чисел\n",
    "\n",
    "\"\"\"\n",
    "rng = np.random.default_rng(12345)\n",
    "print(rng)"
   ]
  },
  {
   "cell_type": "code",
   "execution_count": 54,
   "id": "94fba9f8",
   "metadata": {},
   "outputs": [
    {
     "name": "stdout",
     "output_type": "stream",
     "text": [
      "[20]\n"
     ]
    }
   ],
   "source": [
    "\"\"\" генерируем матрицу случайных целых чисел в диапазоне = [0, 20] размером 1х1\n",
    "\n",
    "\"\"\"\n",
    "rints = rng.integers(low=0, high=29, size=1)\n",
    "print(rints)\n",
    "\n",
    "\"\"\" Этот блок лишний\n",
    "\n",
    "\"\"\"\n"
   ]
  },
  {
   "cell_type": "code",
   "execution_count": 36,
   "id": "35f5d027",
   "metadata": {},
   "outputs": [],
   "source": [
    "\"\"\"Добавляем в уже сгенерированную матрицу нормальных состояний случайно сгенерированные выбросы \n",
    "\n",
    "в диапазоне [19.9, 20.01]\n",
    "\n",
    "\"\"\"\n",
    "for i in range(len(normal_state_generating)):\n",
    "    rints = rng.integers(low=0, high=29, size=1)\n",
    "    normal_state_generating[i, rints] = np.random.default_rng().normal(20, 0.1, size=(1, 1))"
   ]
  },
  {
   "cell_type": "code",
   "execution_count": 37,
   "id": "c8ed5d4f",
   "metadata": {},
   "outputs": [],
   "source": [
    "import pandas as pd # Импорт библиотеки"
   ]
  },
  {
   "cell_type": "code",
   "execution_count": 38,
   "id": "8d79b73d",
   "metadata": {},
   "outputs": [],
   "source": [
    "\"\"\"Создаем из имеющегося массива особый тип массива pd.Dataframe\n",
    "\n",
    "\"\"\"\n",
    "df = pd.DataFrame(normal_state_generating)"
   ]
  },
  {
   "cell_type": "code",
   "execution_count": 39,
   "id": "0d95fbdd",
   "metadata": {},
   "outputs": [
    {
     "data": {
      "text/plain": [
       "<AxesSubplot:>"
      ]
     },
     "execution_count": 39,
     "metadata": {},
     "output_type": "execute_result"
    },
    {
     "data": {
      "image/png": "[encoded data removed]",
      "text/plain": [
       "<Figure size 432x288 with 1 Axes>"
      ]
     },
     "metadata": {
      "needs_background": "light"
     },
     "output_type": "display_data"
    }
   ],
   "source": [
    "\"\"\"Выводим график девятого состояния\n",
    "\n",
    "\"\"\"\n",
    "z = df.iloc[9,:]\n",
    "z.plot()"
   ]
  },
  {
   "cell_type": "code",
   "execution_count": 40,
   "id": "782afcc8",
   "metadata": {},
   "outputs": [
    {
     "data": {
      "text/plain": [
       "<AxesSubplot:>"
      ]
     },
     "execution_count": 40,
     "metadata": {},
     "output_type": "execute_result"
    },
    {
     "data": {
      "image/png": "[encoded data removed]",
      "text/plain": [
       "<Figure size 432x288 with 4 Axes>"
      ]
     },
     "metadata": {
      "needs_background": "light"
     },
     "output_type": "display_data"
    }
   ],
   "source": [
    "\"\"\"Выводим одновременно несколько графиков с состояниями 1-4\n",
    "\n",
    "\"\"\"\n",
    "\n",
    "\n",
    "import matplotlib.pyplot as plt\n",
    "\n",
    "fig, axes = plt.subplots(nrows=2, ncols=2)\n",
    "\n",
    "df.iloc[1,:].plot(ax=axes[0,0])\n",
    "df.iloc[2,:].plot(ax=axes[0,1])\n",
    "df.iloc[3,:].plot(ax=axes[1,0])\n",
    "df.iloc[4,:].plot(ax=axes[1,1])"
   ]
  }
 ],
 "metadata": {
  "kernelspec": {
   "display_name": "Python 3 (ipykernel)",
   "language": "python",
   "name": "python3"
  },
  "language_info": {
   "codemirror_mode": {
    "name": "ipython",
    "version": 3
   },
   "file_extension": ".py",
   "mimetype": "text/x-python",
   "name": "python",
   "nbconvert_exporter": "python",
   "pygments_lexer": "ipython3",
   "version": "3.9.5"
  }
 },
 "nbformat": 4,
 "nbformat_minor": 5
}
